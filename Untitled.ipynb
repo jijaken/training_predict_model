{
 "cells": [
  {
   "cell_type": "code",
   "execution_count": 1,
   "id": "85803d23",
   "metadata": {},
   "outputs": [],
   "source": [
    "import pandas as pd\n",
    "import matplotlib.pyplot as plt\n",
    "#Импорт логической модели логической регрессии\n",
    "from sklearn.linear_model import LogisticRegression"
   ]
  },
  {
   "cell_type": "code",
   "execution_count": 2,
   "id": "fd18ef5f",
   "metadata": {},
   "outputs": [
    {
     "name": "stdout",
     "output_type": "stream",
     "text": [
      "   salary          city  age vacation_preference transport_preference  \\\n",
      "0  196000     Краснодар   25             Шоппинг           Автомобиль   \n",
      "1  152000  Екатеринбург   60         Архитектура              Самолет   \n",
      "2   83000         Томск   49         Архитектура           Автомобиль   \n",
      "3  161000     Краснодар   41             Шоппинг           Автомобиль   \n",
      "4  146000     Краснодар   58         Архитектура              Самолет   \n",
      "\n",
      "   family_members    target  \n",
      "0               1  New York  \n",
      "1               1    London  \n",
      "2               2    Sydney  \n",
      "3               0  New York  \n",
      "4               1    Sydney  \n"
     ]
    }
   ],
   "source": [
    "#Загружаем наш файлик\n",
    "df = pd.read_excel('trips_data.xlsx')\n",
    "#Выведем перые 5 строк для оценки\n",
    "print(df.head())"
   ]
  },
  {
   "cell_type": "code",
   "execution_count": 3,
   "id": "ed77ae72",
   "metadata": {},
   "outputs": [
    {
     "name": "stdout",
     "output_type": "stream",
     "text": [
      "61    54\n",
      "59    51\n",
      "63    48\n",
      "60    47\n",
      "55    46\n",
      "      ..\n",
      "24     2\n",
      "18     1\n",
      "21     1\n",
      "23     1\n",
      "80     1\n",
      "Name: age, Length: 63, dtype: int64\n"
     ]
    }
   ],
   "source": [
    "#Посмотрим сколько и каких значений есть по возрасту\n",
    "print(df.age.value_counts())"
   ]
  },
  {
   "cell_type": "code",
   "execution_count": 4,
   "id": "a006335b",
   "metadata": {},
   "outputs": [
    {
     "data": {
      "text/plain": [
       "<AxesSubplot:ylabel='Frequency'>"
      ]
     },
     "execution_count": 4,
     "metadata": {},
     "output_type": "execute_result"
    },
    {
     "data": {
      "image/png": "[encoded data removed]",
      "text/plain": [
       "<Figure size 432x288 with 1 Axes>"
      ]
     },
     "metadata": {
      "needs_background": "light"
     },
     "output_type": "display_data"
    }
   ],
   "source": [
    "#Построим гистограмму по зарплате\n",
    "df.salary.plot(kind='hist')"
   ]
  },
  {
   "cell_type": "code",
   "execution_count": 5,
   "id": "dab5c8bc",
   "metadata": {},
   "outputs": [],
   "source": [
    "#Мат подготовка (кодируем данные для машины)\n",
    "df = pd.get_dummies(df,columns=['city','vacation_preference','transport_preference'])"
   ]
  },
  {
   "cell_type": "code",
   "execution_count": 6,
   "id": "6496a5c8",
   "metadata": {},
   "outputs": [],
   "source": [
    "#Разбение данных на входные(Х) и выходные данные (У)  (У - то что прогнозируем)\n",
    "y = df.target\n",
    "#В терминах пандаса у - колонка targer х = все остальные колонки\n",
    "x = df.drop('target', axis=1)"
   ]
  },
  {
   "cell_type": "code",
   "execution_count": 7,
   "id": "9d9cabb1",
   "metadata": {},
   "outputs": [
    {
     "name": "stdout",
     "output_type": "stream",
     "text": [
      "0.241\n"
     ]
    }
   ],
   "source": [
    "#Строим модель\n",
    "model = LogisticRegression()\n",
    "model.fit(x,y)\n",
    "#Смотрим точность модели\n",
    "print(model.score(x,y))"
   ]
  },
  {
   "cell_type": "code",
   "execution_count": 8,
   "id": "9c9123db",
   "metadata": {},
   "outputs": [],
   "source": [
    "#Составляем пример для предикта (предсказания)\n",
    "example = {'salary': [50000],\n",
    "           'age': [30],\n",
    "           'family_members': [1],\n",
    "           'city_Екатеринбург': [0],\n",
    "           'city_Киев': [0],\n",
    "           'city_Краснодар': [0],\n",
    "           'city_Минск': [0],\n",
    "           'city_Москва': [0],\n",
    "           'city_Новосибирск': [0],\n",
    "           'city_Омск': [0],\n",
    "           'city_Петербург': [0],\n",
    "           'city_Томск': [0],\n",
    "           'city_Хабаровск': [1],\n",
    "           'city_Ярославль': [0],\n",
    "           'vacation_preference_Архитектура': [0],\n",
    "           'vacation_preference_Ночные клубы': [0],\n",
    "           'vacation_preference_Пляжный отдых': [0],\n",
    "           'vacation_preference_Шоппинг': [1],\n",
    "           'transport_preference_Автомобиль': [0],\n",
    "           'transport_preference_Космический корабль': [0],\n",
    "           'transport_preference_Морской транспорт': [0],\n",
    "           'transport_preference_Поезд': [0],\n",
    "           'transport_preference_Самолет': [1]}"
   ]
  },
  {
   "cell_type": "code",
   "execution_count": 9,
   "id": "4c491b7a",
   "metadata": {
    "scrolled": true
   },
   "outputs": [
    {
     "data": {
      "text/plain": [
       "array(['Sydney'], dtype=object)"
      ]
     },
     "execution_count": 9,
     "metadata": {},
     "output_type": "execute_result"
    }
   ],
   "source": [
    "#Составляем DataFrame\n",
    "example_df = pd.DataFrame(example)\n",
    "\n",
    "#Делаем предикт\n",
    "model.predict(example_df)"
   ]
  }
 ],
 "metadata": {
  "kernelspec": {
   "display_name": "Python 3 (ipykernel)",
   "language": "python",
   "name": "python3"
  },
  "language_info": {
   "codemirror_mode": {
    "name": "ipython",
    "version": 3
   },
   "file_extension": ".py",
   "mimetype": "text/x-python",
   "name": "python",
   "nbconvert_exporter": "python",
   "pygments_lexer": "ipython3",
   "version": "3.9.12"
  }
 },
 "nbformat": 4,
 "nbformat_minor": 5
}
